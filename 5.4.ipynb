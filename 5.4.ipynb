{
 "cells": [
  {
   "cell_type": "code",
   "execution_count": null,
   "metadata": {},
   "outputs": [
    {
     "data": {
      "application/vnd.jupyter.widget-view+json": {
       "model_id": "367ece9ec70e41438be118222a10bbfc",
       "version_major": 2,
       "version_minor": 0
      },
      "text/plain": [
       "Filter:   0%|          | 0/550152 [00:00<?, ? examples/s]"
      ]
     },
     "metadata": {},
     "output_type": "display_data"
    },
    {
     "name": "stderr",
     "output_type": "stream",
     "text": [
      "/Users/moni/NLP/venv/lib/python3.12/site-packages/transformers/optimization.py:591: FutureWarning: This implementation of AdamW is deprecated and will be removed in a future version. Use the PyTorch implementation torch.optim.AdamW instead, or set `no_deprecation_warning=True` to disable this warning\n",
      "  warnings.warn(\n"
     ]
    },
    {
     "data": {
      "application/vnd.jupyter.widget-view+json": {
       "model_id": "6c47a4dd7c474f8ebfccedfa9d162e4d",
       "version_major": 2,
       "version_minor": 0
      },
      "text/plain": [
       "Map:   0%|          | 0/549367 [00:00<?, ? examples/s]"
      ]
     },
     "metadata": {},
     "output_type": "display_data"
    },
    {
     "name": "stderr",
     "output_type": "stream",
     "text": [
      "/var/folders/ql/tk19k_nx6n5glck32ldcnq6m0000gn/T/ipykernel_1100/1861138193.py:62: UserWarning: To copy construct from a tensor, it is recommended to use sourceTensor.clone().detach() or sourceTensor.clone().detach().requires_grad_(True), rather than torch.tensor(sourceTensor).\n",
      "  adversary_target = torch.tensor(bias_probs).float().to(predictions.device)\n"
     ]
    },
    {
     "name": "stdout",
     "output_type": "stream",
     "text": [
      "Epoch 1/3, Loss: 0.7190\n",
      "Epoch 2/3, Loss: 0.7069\n",
      "Epoch 3/3, Loss: 0.6979\n"
     ]
    },
    {
     "name": "stderr",
     "output_type": "stream",
     "text": [
      "/Users/moni/NLP/venv/lib/python3.12/site-packages/transformers/training_args.py:1525: FutureWarning: `evaluation_strategy` is deprecated and will be removed in version 4.46 of 🤗 Transformers. Use `eval_strategy` instead\n",
      "  warnings.warn(\n"
     ]
    },
    {
     "data": {
      "application/vnd.jupyter.widget-view+json": {
       "model_id": "7e5e106c280d464e9926d3ee1f96a9e4",
       "version_major": 2,
       "version_minor": 0
      },
      "text/plain": [
       "  0%|          | 0/1250 [00:00<?, ?it/s]"
      ]
     },
     "metadata": {},
     "output_type": "display_data"
    },
    {
     "name": "stdout",
     "output_type": "stream",
     "text": [
      "Evaluation Results: {'eval_loss': 0.5151589512825012, 'eval_model_preparation_time': 0.0028, 'eval_accuracy': 0.8662, 'eval_runtime': 65.804, 'eval_samples_per_second': 151.967, 'eval_steps_per_second': 18.996}\n",
      "Final Accuracy on the Test Set: 0.8662\n"
     ]
    }
   ],
   "source": [
    "from transformers import Trainer, TrainingArguments, AutoModelForSequenceClassification, AutoTokenizer, AdamW\n",
    "from sklearn.feature_extraction.text import CountVectorizer\n",
    "from sklearn.linear_model import LogisticRegression\n",
    "from datasets import load_dataset\n",
    "import numpy as np\n",
    "import torch\n",
    "import torch.nn as nn\n",
    "from torch.utils.data import DataLoader\n",
    "from sklearn.metrics import accuracy_score\n",
    "\n",
    "device = \"cuda\" if torch.cuda.is_available() else \"cpu\"\n",
    "\n",
    "snli_dataset = load_dataset(\"snli\")\n",
    "full_train_dataset = snli_dataset[\"train\"].filter(lambda x: x[\"label\"] != -1) \n",
    "\n",
    "# extract bow features for the adversary \n",
    "vectorizer = CountVectorizer(max_features=5000)\n",
    "premises = full_train_dataset[\"premise\"]\n",
    "hypotheses = full_train_dataset[\"hypothesis\"]\n",
    "bow_features = vectorizer.fit_transform([f\"{p} {h}\" for p, h in zip(premises, hypotheses)])\n",
    "\n",
    "# train logistic regression as bias model on bow features\n",
    "filtered_labels = full_train_dataset[\"label\"]\n",
    "adversary = LogisticRegression(max_iter=1000)\n",
    "adversary.fit(bow_features, filtered_labels)\n",
    "\n",
    "# precompute bias predictions on the bow features\n",
    "bias_predicted_probs = adversary.predict_proba(bow_features) \n",
    "# shape: (num_samples, num_classes)\n",
    "\n",
    "# load main model and tokenizer\n",
    "checkpoint_folder = \"./New Folder With Items\"\n",
    "main_model = AutoModelForSequenceClassification.from_pretrained(checkpoint_folder)\n",
    "main_model.to(device)\n",
    "main_tokenizer = AutoTokenizer.from_pretrained(checkpoint_folder)\n",
    "\n",
    "# define optimizer and loss function for the main model\n",
    "optimizer = AdamW(main_model.parameters(), lr=5e-5)\n",
    "criterion = nn.CrossEntropyLoss()\n",
    "\n",
    "# tokenize the full dataset with the main model's tokenizer\n",
    "def main_tokenize_function(example):\n",
    "    return main_tokenizer(\n",
    "        example[\"premise\"],\n",
    "        example[\"hypothesis\"],\n",
    "        truncation=True,\n",
    "        padding=\"max_length\",\n",
    "        max_length=57\n",
    "    )\n",
    "\n",
    "# apply tokenization to the training dataset\n",
    "tokenized_full_train = full_train_dataset.map(main_tokenize_function, batched=True)\n",
    "tokenized_full_train.set_format(\"torch\", columns=[\"input_ids\", \"attention_mask\", \"label\"])\n",
    "\n",
    "# attach precomputed bias predictions to tokenized dataset\n",
    "tokenized_full_train = tokenized_full_train.add_column(\"bias_probs\", bias_predicted_probs.tolist())\n",
    "def adversarial_loss(predictions, labels, bias_probs):\n",
    "    adversary_target = torch.tensor(bias_probs).float().to(predictions.device)\n",
    "\n",
    "    if adversary_target.shape[1] != predictions.shape[1]:\n",
    "        adversary_target = adversary_target[:, :predictions.shape[1]] # slice to match classes\n",
    "\n",
    "    # combined loss: classification loss + adversarial loss\n",
    "    classification_loss = criterion(predictions, labels)\n",
    "    adversarial_penalty = nn.MSELoss()(predictions, adversary_target)\n",
    "    total_loss = classification_loss + 0.5 * adversarial_penalty \n",
    "\n",
    "    return total_loss\n",
    "\n",
    "train_dataloader = DataLoader(tokenized_full_train, batch_size=16, shuffle=True)\n",
    "\n",
    "# training loop with adversarial loss\n",
    "num_epochs = 3\n",
    "for epoch in range(num_epochs):\n",
    "    main_model.train()\n",
    "    total_loss = 0\n",
    "\n",
    "    for batch in train_dataloader:\n",
    "        optimizer.zero_grad()\n",
    "        \n",
    "        input_ids = batch[\"input_ids\"].to(device)\n",
    "        attention_mask = batch[\"attention_mask\"].to(device)\n",
    "        labels = batch[\"label\"].to(device)\n",
    "        bias_probs = batch[\"bias_probs\"] \n",
    "\n",
    "        # forward pass\n",
    "        outputs = main_model(input_ids=input_ids, attention_mask=attention_mask, labels=labels)\n",
    "        logits = outputs.logits\n",
    "\n",
    "        loss = adversarial_loss(logits, labels, bias_probs)\n",
    "        \n",
    "        loss.backward()\n",
    "        optimizer.step()\n",
    "        total_loss += loss.item()\n",
    "\n",
    "    avg_loss = total_loss / len(train_dataloader)\n",
    "    print(f\"Epoch {epoch + 1}/{num_epochs}, Loss: {avg_loss:.4f}\")\n",
    "\n",
    "test_dataset = snli_dataset[\"test\"]\n",
    "\n",
    "def test_tokenize_function(example):\n",
    "    return main_tokenizer(\n",
    "        example[\"premise\"],\n",
    "        example[\"hypothesis\"],\n",
    "        truncation=True,\n",
    "        padding=\"max_length\",\n",
    "        max_length=57\n",
    "    )\n",
    "\n",
    "# apply tokenization to the test set\n",
    "tokenized_test_dataset = test_dataset.map(test_tokenize_function, batched=True)\n",
    "tokenized_test_dataset.set_format(\"torch\", columns=[\"input_ids\", \"attention_mask\", \"label\"])\n",
    "\n",
    "\n",
    " # define a function to compute accuracy\n",
    "def compute_metrics(eval_pred):\n",
    "    logits, labels = eval_pred\n",
    "    predictions = np.argmax(logits, axis=-1)\n",
    "    accuracy = accuracy_score(labels, predictions)\n",
    "    return {\"accuracy\": accuracy}\n",
    "\n",
    "# define training arguments for evaluation on the test set\n",
    "main_training_args = TrainingArguments(\n",
    "    output_dir=\"./main_model\",\n",
    "    evaluation_strategy=\"epoch\",\n",
    "    save_strategy=\"epoch\",\n",
    "    num_train_epochs=3,\n",
    "    per_device_train_batch_size=16,\n",
    ")\n",
    "\n",
    "main_trainer = Trainer(\n",
    "    model=main_model,\n",
    "    args=main_training_args,\n",
    "    train_dataset=tokenized_full_train,\n",
    "    eval_dataset=tokenized_test_dataset,\n",
    "    compute_metrics=compute_metrics\n",
    ")\n",
    "\n",
    "# evaluate on the tokenized test dataset\n",
    "test_results = main_trainer.evaluate(eval_dataset=tokenized_test_dataset)\n",
    "\n",
    "print(\"Evaluation results:\", test_results)\n",
    "\n",
    "if \"eval_accuracy\" in test_results:\n",
    "    print(f\"Final accuracy on the test set: {test_results['eval_accuracy']:.4f}\")\n",
    "elif \"accuracy\" in test_results:\n",
    "    print(f\"Final accuracy on test set: {test_results['accuracy']:.4f}\")\n",
    "else:\n",
    "    print(\"Error.\")"
   ]
  }
 ],
 "metadata": {
  "kernelspec": {
   "display_name": "venv",
   "language": "python",
   "name": "python3"
  },
  "language_info": {
   "codemirror_mode": {
    "name": "ipython",
    "version": 3
   },
   "file_extension": ".py",
   "mimetype": "text/x-python",
   "name": "python",
   "nbconvert_exporter": "python",
   "pygments_lexer": "ipython3",
   "version": "3.12.2"
  }
 },
 "nbformat": 4,
 "nbformat_minor": 2
}
